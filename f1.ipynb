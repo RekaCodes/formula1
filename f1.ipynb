{
 "cells": [
  {
   "cell_type": "markdown",
   "metadata": {},
   "source": [
    "## Project Setup and Imports"
   ]
  },
  {
   "cell_type": "code",
   "execution_count": 27,
   "metadata": {},
   "outputs": [],
   "source": [
    "# import mysql.connector\n",
    "import pandas as pd\n",
    "import matplotlib.pyplot as plt\n",
    "import seaborn as sns\n",
    "import plotly.express as px\n",
    "\n",
    "import sqlalchemy"
   ]
  },
  {
   "cell_type": "markdown",
   "metadata": {},
   "source": [
    "## SQLalchemy setup"
   ]
  },
  {
   "cell_type": "code",
   "execution_count": 12,
   "metadata": {},
   "outputs": [],
   "source": [
    "engine = sqlalchemy.create_engine('mysql+pymysql://root:pw@localhost:3306/formula1')"
   ]
  },
  {
   "cell_type": "markdown",
   "metadata": {},
   "source": [
    "## Top 20 Drivers by Total Wins"
   ]
  },
  {
   "cell_type": "code",
   "execution_count": 59,
   "metadata": {},
   "outputs": [],
   "source": [
    "query = '''\n",
    "SELECT\n",
    "    CONCAT(dr.forename, ' ', dr.surname) AS name\n",
    "    , COUNT(re.positionOrder) AS wins\n",
    "FROM results re\n",
    "INNER JOIN drivers dr ON dr.driverId = re.driverId\n",
    "WHERE re.positionOrder = 1\n",
    "GROUP BY re.driverId\n",
    "ORDER BY wins DESC\n",
    "LIMIT 20;\n",
    "'''\n",
    "\n",
    "drivers_with_most_wins = pd.read_sql_query(query, engine)"
   ]
  },
  {
   "cell_type": "code",
   "execution_count": 141,
   "metadata": {},
   "outputs": [
    {
     "data": {
      "application/vnd.plotly.v1+json": {
       "config": {
        "plotlyServerURL": "https://plot.ly"
       },
       "data": [
        {
         "alignmentgroup": "True",
         "hovertemplate": "wins=%{text}<br>name=%{y}<extra></extra>",
         "legendgroup": "",
         "marker": {
          "color": "#636efa",
          "pattern": {
           "shape": ""
          }
         },
         "name": "",
         "offsetgroup": "",
         "orientation": "h",
         "showlegend": false,
         "text": [
          103,
          91,
          53,
          51,
          41,
          32,
          31,
          27,
          25,
          25,
          24,
          23,
          23,
          22,
          21,
          21,
          20,
          16,
          15,
          14
         ],
         "textposition": "auto",
         "type": "bar",
         "x": [
          103,
          91,
          53,
          51,
          41,
          32,
          31,
          27,
          25,
          25,
          24,
          23,
          23,
          22,
          21,
          21,
          20,
          16,
          15,
          14
         ],
         "xaxis": "x",
         "y": [
          "Lewis Hamilton",
          "Michael Schumacher",
          "Sebastian Vettel",
          "Alain Prost",
          "Ayrton Senna",
          "Fernando Alonso",
          "Nigel Mansell",
          "Jackie Stewart",
          "Jim Clark",
          "Niki Lauda",
          "Juan Fangio",
          "Nelson Piquet",
          "Nico Rosberg",
          "Damon Hill",
          "Kimi RÃ¤ikkÃ¶nen",
          "Max Verstappen",
          "Mika HÃ¤kkinen",
          "Stirling Moss",
          "Jenson Button",
          "Jack Brabham"
         ],
         "yaxis": "y"
        }
       ],
       "layout": {
        "barmode": "relative",
        "height": 600,
        "legend": {
         "tracegroupgap": 0
        },
        "margin": {
         "b": 10,
         "l": 10,
         "r": 20,
         "t": 40
        },
        "template": {
         "data": {
          "bar": [
           {
            "error_x": {
             "color": "#2a3f5f"
            },
            "error_y": {
             "color": "#2a3f5f"
            },
            "marker": {
             "line": {
              "color": "#E5ECF6",
              "width": 0.5
             },
             "pattern": {
              "fillmode": "overlay",
              "size": 10,
              "solidity": 0.2
             }
            },
            "type": "bar"
           }
          ],
          "barpolar": [
           {
            "marker": {
             "line": {
              "color": "#E5ECF6",
              "width": 0.5
             },
             "pattern": {
              "fillmode": "overlay",
              "size": 10,
              "solidity": 0.2
             }
            },
            "type": "barpolar"
           }
          ],
          "carpet": [
           {
            "aaxis": {
             "endlinecolor": "#2a3f5f",
             "gridcolor": "white",
             "linecolor": "white",
             "minorgridcolor": "white",
             "startlinecolor": "#2a3f5f"
            },
            "baxis": {
             "endlinecolor": "#2a3f5f",
             "gridcolor": "white",
             "linecolor": "white",
             "minorgridcolor": "white",
             "startlinecolor": "#2a3f5f"
            },
            "type": "carpet"
           }
          ],
          "choropleth": [
           {
            "colorbar": {
             "outlinewidth": 0,
             "ticks": ""
            },
            "type": "choropleth"
           }
          ],
          "contour": [
           {
            "colorbar": {
             "outlinewidth": 0,
             "ticks": ""
            },
            "colorscale": [
             [
              0,
              "#0d0887"
             ],
             [
              0.1111111111111111,
              "#46039f"
             ],
             [
              0.2222222222222222,
              "#7201a8"
             ],
             [
              0.3333333333333333,
              "#9c179e"
             ],
             [
              0.4444444444444444,
              "#bd3786"
             ],
             [
              0.5555555555555556,
              "#d8576b"
             ],
             [
              0.6666666666666666,
              "#ed7953"
             ],
             [
              0.7777777777777778,
              "#fb9f3a"
             ],
             [
              0.8888888888888888,
              "#fdca26"
             ],
             [
              1,
              "#f0f921"
             ]
            ],
            "type": "contour"
           }
          ],
          "contourcarpet": [
           {
            "colorbar": {
             "outlinewidth": 0,
             "ticks": ""
            },
            "type": "contourcarpet"
           }
          ],
          "heatmap": [
           {
            "colorbar": {
             "outlinewidth": 0,
             "ticks": ""
            },
            "colorscale": [
             [
              0,
              "#0d0887"
             ],
             [
              0.1111111111111111,
              "#46039f"
             ],
             [
              0.2222222222222222,
              "#7201a8"
             ],
             [
              0.3333333333333333,
              "#9c179e"
             ],
             [
              0.4444444444444444,
              "#bd3786"
             ],
             [
              0.5555555555555556,
              "#d8576b"
             ],
             [
              0.6666666666666666,
              "#ed7953"
             ],
             [
              0.7777777777777778,
              "#fb9f3a"
             ],
             [
              0.8888888888888888,
              "#fdca26"
             ],
             [
              1,
              "#f0f921"
             ]
            ],
            "type": "heatmap"
           }
          ],
          "heatmapgl": [
           {
            "colorbar": {
             "outlinewidth": 0,
             "ticks": ""
            },
            "colorscale": [
             [
              0,
              "#0d0887"
             ],
             [
              0.1111111111111111,
              "#46039f"
             ],
             [
              0.2222222222222222,
              "#7201a8"
             ],
             [
              0.3333333333333333,
              "#9c179e"
             ],
             [
              0.4444444444444444,
              "#bd3786"
             ],
             [
              0.5555555555555556,
              "#d8576b"
             ],
             [
              0.6666666666666666,
              "#ed7953"
             ],
             [
              0.7777777777777778,
              "#fb9f3a"
             ],
             [
              0.8888888888888888,
              "#fdca26"
             ],
             [
              1,
              "#f0f921"
             ]
            ],
            "type": "heatmapgl"
           }
          ],
          "histogram": [
           {
            "marker": {
             "pattern": {
              "fillmode": "overlay",
              "size": 10,
              "solidity": 0.2
             }
            },
            "type": "histogram"
           }
          ],
          "histogram2d": [
           {
            "colorbar": {
             "outlinewidth": 0,
             "ticks": ""
            },
            "colorscale": [
             [
              0,
              "#0d0887"
             ],
             [
              0.1111111111111111,
              "#46039f"
             ],
             [
              0.2222222222222222,
              "#7201a8"
             ],
             [
              0.3333333333333333,
              "#9c179e"
             ],
             [
              0.4444444444444444,
              "#bd3786"
             ],
             [
              0.5555555555555556,
              "#d8576b"
             ],
             [
              0.6666666666666666,
              "#ed7953"
             ],
             [
              0.7777777777777778,
              "#fb9f3a"
             ],
             [
              0.8888888888888888,
              "#fdca26"
             ],
             [
              1,
              "#f0f921"
             ]
            ],
            "type": "histogram2d"
           }
          ],
          "histogram2dcontour": [
           {
            "colorbar": {
             "outlinewidth": 0,
             "ticks": ""
            },
            "colorscale": [
             [
              0,
              "#0d0887"
             ],
             [
              0.1111111111111111,
              "#46039f"
             ],
             [
              0.2222222222222222,
              "#7201a8"
             ],
             [
              0.3333333333333333,
              "#9c179e"
             ],
             [
              0.4444444444444444,
              "#bd3786"
             ],
             [
              0.5555555555555556,
              "#d8576b"
             ],
             [
              0.6666666666666666,
              "#ed7953"
             ],
             [
              0.7777777777777778,
              "#fb9f3a"
             ],
             [
              0.8888888888888888,
              "#fdca26"
             ],
             [
              1,
              "#f0f921"
             ]
            ],
            "type": "histogram2dcontour"
           }
          ],
          "mesh3d": [
           {
            "colorbar": {
             "outlinewidth": 0,
             "ticks": ""
            },
            "type": "mesh3d"
           }
          ],
          "parcoords": [
           {
            "line": {
             "colorbar": {
              "outlinewidth": 0,
              "ticks": ""
             }
            },
            "type": "parcoords"
           }
          ],
          "pie": [
           {
            "automargin": true,
            "type": "pie"
           }
          ],
          "scatter": [
           {
            "fillpattern": {
             "fillmode": "overlay",
             "size": 10,
             "solidity": 0.2
            },
            "type": "scatter"
           }
          ],
          "scatter3d": [
           {
            "line": {
             "colorbar": {
              "outlinewidth": 0,
              "ticks": ""
             }
            },
            "marker": {
             "colorbar": {
              "outlinewidth": 0,
              "ticks": ""
             }
            },
            "type": "scatter3d"
           }
          ],
          "scattercarpet": [
           {
            "marker": {
             "colorbar": {
              "outlinewidth": 0,
              "ticks": ""
             }
            },
            "type": "scattercarpet"
           }
          ],
          "scattergeo": [
           {
            "marker": {
             "colorbar": {
              "outlinewidth": 0,
              "ticks": ""
             }
            },
            "type": "scattergeo"
           }
          ],
          "scattergl": [
           {
            "marker": {
             "colorbar": {
              "outlinewidth": 0,
              "ticks": ""
             }
            },
            "type": "scattergl"
           }
          ],
          "scattermapbox": [
           {
            "marker": {
             "colorbar": {
              "outlinewidth": 0,
              "ticks": ""
             }
            },
            "type": "scattermapbox"
           }
          ],
          "scatterpolar": [
           {
            "marker": {
             "colorbar": {
              "outlinewidth": 0,
              "ticks": ""
             }
            },
            "type": "scatterpolar"
           }
          ],
          "scatterpolargl": [
           {
            "marker": {
             "colorbar": {
              "outlinewidth": 0,
              "ticks": ""
             }
            },
            "type": "scatterpolargl"
           }
          ],
          "scatterternary": [
           {
            "marker": {
             "colorbar": {
              "outlinewidth": 0,
              "ticks": ""
             }
            },
            "type": "scatterternary"
           }
          ],
          "surface": [
           {
            "colorbar": {
             "outlinewidth": 0,
             "ticks": ""
            },
            "colorscale": [
             [
              0,
              "#0d0887"
             ],
             [
              0.1111111111111111,
              "#46039f"
             ],
             [
              0.2222222222222222,
              "#7201a8"
             ],
             [
              0.3333333333333333,
              "#9c179e"
             ],
             [
              0.4444444444444444,
              "#bd3786"
             ],
             [
              0.5555555555555556,
              "#d8576b"
             ],
             [
              0.6666666666666666,
              "#ed7953"
             ],
             [
              0.7777777777777778,
              "#fb9f3a"
             ],
             [
              0.8888888888888888,
              "#fdca26"
             ],
             [
              1,
              "#f0f921"
             ]
            ],
            "type": "surface"
           }
          ],
          "table": [
           {
            "cells": {
             "fill": {
              "color": "#EBF0F8"
             },
             "line": {
              "color": "white"
             }
            },
            "header": {
             "fill": {
              "color": "#C8D4E3"
             },
             "line": {
              "color": "white"
             }
            },
            "type": "table"
           }
          ]
         },
         "layout": {
          "annotationdefaults": {
           "arrowcolor": "#2a3f5f",
           "arrowhead": 0,
           "arrowwidth": 1
          },
          "autotypenumbers": "strict",
          "coloraxis": {
           "colorbar": {
            "outlinewidth": 0,
            "ticks": ""
           }
          },
          "colorscale": {
           "diverging": [
            [
             0,
             "#8e0152"
            ],
            [
             0.1,
             "#c51b7d"
            ],
            [
             0.2,
             "#de77ae"
            ],
            [
             0.3,
             "#f1b6da"
            ],
            [
             0.4,
             "#fde0ef"
            ],
            [
             0.5,
             "#f7f7f7"
            ],
            [
             0.6,
             "#e6f5d0"
            ],
            [
             0.7,
             "#b8e186"
            ],
            [
             0.8,
             "#7fbc41"
            ],
            [
             0.9,
             "#4d9221"
            ],
            [
             1,
             "#276419"
            ]
           ],
           "sequential": [
            [
             0,
             "#0d0887"
            ],
            [
             0.1111111111111111,
             "#46039f"
            ],
            [
             0.2222222222222222,
             "#7201a8"
            ],
            [
             0.3333333333333333,
             "#9c179e"
            ],
            [
             0.4444444444444444,
             "#bd3786"
            ],
            [
             0.5555555555555556,
             "#d8576b"
            ],
            [
             0.6666666666666666,
             "#ed7953"
            ],
            [
             0.7777777777777778,
             "#fb9f3a"
            ],
            [
             0.8888888888888888,
             "#fdca26"
            ],
            [
             1,
             "#f0f921"
            ]
           ],
           "sequentialminus": [
            [
             0,
             "#0d0887"
            ],
            [
             0.1111111111111111,
             "#46039f"
            ],
            [
             0.2222222222222222,
             "#7201a8"
            ],
            [
             0.3333333333333333,
             "#9c179e"
            ],
            [
             0.4444444444444444,
             "#bd3786"
            ],
            [
             0.5555555555555556,
             "#d8576b"
            ],
            [
             0.6666666666666666,
             "#ed7953"
            ],
            [
             0.7777777777777778,
             "#fb9f3a"
            ],
            [
             0.8888888888888888,
             "#fdca26"
            ],
            [
             1,
             "#f0f921"
            ]
           ]
          },
          "colorway": [
           "#636efa",
           "#EF553B",
           "#00cc96",
           "#ab63fa",
           "#FFA15A",
           "#19d3f3",
           "#FF6692",
           "#B6E880",
           "#FF97FF",
           "#FECB52"
          ],
          "font": {
           "color": "#2a3f5f"
          },
          "geo": {
           "bgcolor": "white",
           "lakecolor": "white",
           "landcolor": "#E5ECF6",
           "showlakes": true,
           "showland": true,
           "subunitcolor": "white"
          },
          "hoverlabel": {
           "align": "left"
          },
          "hovermode": "closest",
          "mapbox": {
           "style": "light"
          },
          "paper_bgcolor": "white",
          "plot_bgcolor": "#E5ECF6",
          "polar": {
           "angularaxis": {
            "gridcolor": "white",
            "linecolor": "white",
            "ticks": ""
           },
           "bgcolor": "#E5ECF6",
           "radialaxis": {
            "gridcolor": "white",
            "linecolor": "white",
            "ticks": ""
           }
          },
          "scene": {
           "xaxis": {
            "backgroundcolor": "#E5ECF6",
            "gridcolor": "white",
            "gridwidth": 2,
            "linecolor": "white",
            "showbackground": true,
            "ticks": "",
            "zerolinecolor": "white"
           },
           "yaxis": {
            "backgroundcolor": "#E5ECF6",
            "gridcolor": "white",
            "gridwidth": 2,
            "linecolor": "white",
            "showbackground": true,
            "ticks": "",
            "zerolinecolor": "white"
           },
           "zaxis": {
            "backgroundcolor": "#E5ECF6",
            "gridcolor": "white",
            "gridwidth": 2,
            "linecolor": "white",
            "showbackground": true,
            "ticks": "",
            "zerolinecolor": "white"
           }
          },
          "shapedefaults": {
           "line": {
            "color": "#2a3f5f"
           }
          },
          "ternary": {
           "aaxis": {
            "gridcolor": "white",
            "linecolor": "white",
            "ticks": ""
           },
           "baxis": {
            "gridcolor": "white",
            "linecolor": "white",
            "ticks": ""
           },
           "bgcolor": "#E5ECF6",
           "caxis": {
            "gridcolor": "white",
            "linecolor": "white",
            "ticks": ""
           }
          },
          "title": {
           "x": 0.05
          },
          "xaxis": {
           "automargin": true,
           "gridcolor": "white",
           "linecolor": "white",
           "ticks": "",
           "title": {
            "standoff": 15
           },
           "zerolinecolor": "white",
           "zerolinewidth": 2
          },
          "yaxis": {
           "automargin": true,
           "gridcolor": "white",
           "linecolor": "white",
           "ticks": "",
           "title": {
            "standoff": 15
           },
           "zerolinecolor": "white",
           "zerolinewidth": 2
          }
         }
        },
        "title": {
         "text": "F1 Drivers with Most Wins"
        },
        "width": 1200,
        "xaxis": {
         "anchor": "y",
         "domain": [
          0,
          1
         ],
         "title": {
          "text": "wins"
         }
        },
        "yaxis": {
         "anchor": "x",
         "categoryorder": "total ascending",
         "domain": [
          0,
          1
         ],
         "title": {
          "text": "name"
         }
        }
       }
      }
     },
     "metadata": {},
     "output_type": "display_data"
    }
   ],
   "source": [
    "fig = px.bar(drivers_with_most_wins, x='wins', y='name',text='wins', title='F1 Drivers with Most Wins',\n",
    "    width=1200, height=600)\n",
    "fig.update_layout(\n",
    "    yaxis={'categoryorder':'total ascending'},\n",
    "    margin=dict(l=10, r=20, t=40, b=10))\n",
    "fig.show()"
   ]
  },
  {
   "cell_type": "markdown",
   "metadata": {},
   "source": [
    "## Total Wins per Specific Driver"
   ]
  },
  {
   "cell_type": "code",
   "execution_count": 63,
   "metadata": {},
   "outputs": [],
   "source": [
    "query = '''\n",
    "SELECT \n",
    "    concat(dr.forename, ' ', dr.surname) as name\n",
    "    , COUNT(re.positionOrder) as wins\n",
    "FROM results re\n",
    "INNER JOIN drivers dr ON dr.driverId = re.driverId\n",
    "WHERE re.positionOrder = 1\n",
    "'''\n",
    "wins_by_driver = pd.read_sql_query(query, engine)"
   ]
  },
  {
   "cell_type": "code",
   "execution_count": 72,
   "metadata": {},
   "outputs": [
    {
     "data": {
      "text/plain": [
       "105    21\n",
       "Name: wins, dtype: int64"
      ]
     },
     "execution_count": 72,
     "metadata": {},
     "output_type": "execute_result"
    }
   ],
   "source": [
    "driver_name = 'Max Verstappen'\n",
    "\n",
    "wins_by_driver[wins_by_driver.name == driver_name].wins"
   ]
  },
  {
   "cell_type": "markdown",
   "metadata": {},
   "source": [
    "## Total Wins per Driver for each Constructor"
   ]
  },
  {
   "cell_type": "code",
   "execution_count": 87,
   "metadata": {},
   "outputs": [],
   "source": [
    "query = '''\n",
    "SELECT\n",
    "    c.name AS constructor_name\n",
    "    , CONCAT(dr.forename, ' ', dr.surname) AS driver_name\n",
    "    , COUNT(re.positionOrder) AS wins\n",
    "FROM results re\n",
    "INNER JOIN drivers dr ON re.driverId = dr.driverId\n",
    "INNER JOIN constructors c ON re.constructorId = c.constructorId\n",
    "WHERE re.positionOrder = 1\n",
    "GROUP BY constructor_name, driver_name\n",
    "ORDER BY wins desc\n",
    ";\n",
    "'''\n",
    "top_wins_per_driver_constructor = pd.read_sql_query(query, engine)"
   ]
  },
  {
   "cell_type": "code",
   "execution_count": 88,
   "metadata": {},
   "outputs": [
    {
     "data": {
      "text/html": [
       "<div>\n",
       "<style scoped>\n",
       "    .dataframe tbody tr th:only-of-type {\n",
       "        vertical-align: middle;\n",
       "    }\n",
       "\n",
       "    .dataframe tbody tr th {\n",
       "        vertical-align: top;\n",
       "    }\n",
       "\n",
       "    .dataframe thead th {\n",
       "        text-align: right;\n",
       "    }\n",
       "</style>\n",
       "<table border=\"1\" class=\"dataframe\">\n",
       "  <thead>\n",
       "    <tr style=\"text-align: right;\">\n",
       "      <th></th>\n",
       "      <th>constructor_name</th>\n",
       "      <th>driver_name</th>\n",
       "      <th>wins</th>\n",
       "    </tr>\n",
       "  </thead>\n",
       "  <tbody>\n",
       "    <tr>\n",
       "      <th>0</th>\n",
       "      <td>Mercedes</td>\n",
       "      <td>Lewis Hamilton</td>\n",
       "      <td>82</td>\n",
       "    </tr>\n",
       "    <tr>\n",
       "      <th>1</th>\n",
       "      <td>Ferrari</td>\n",
       "      <td>Michael Schumacher</td>\n",
       "      <td>72</td>\n",
       "    </tr>\n",
       "    <tr>\n",
       "      <th>2</th>\n",
       "      <td>Red Bull</td>\n",
       "      <td>Sebastian Vettel</td>\n",
       "      <td>38</td>\n",
       "    </tr>\n",
       "    <tr>\n",
       "      <th>3</th>\n",
       "      <td>McLaren</td>\n",
       "      <td>Ayrton Senna</td>\n",
       "      <td>35</td>\n",
       "    </tr>\n",
       "    <tr>\n",
       "      <th>4</th>\n",
       "      <td>McLaren</td>\n",
       "      <td>Alain Prost</td>\n",
       "      <td>30</td>\n",
       "    </tr>\n",
       "    <tr>\n",
       "      <th>...</th>\n",
       "      <td>...</td>\n",
       "      <td>...</td>\n",
       "      <td>...</td>\n",
       "    </tr>\n",
       "    <tr>\n",
       "      <th>183</th>\n",
       "      <td>AlphaTauri</td>\n",
       "      <td>Pierre Gasly</td>\n",
       "      <td>1</td>\n",
       "    </tr>\n",
       "    <tr>\n",
       "      <th>184</th>\n",
       "      <td>Racing Point</td>\n",
       "      <td>Sergio PÃ©rez</td>\n",
       "      <td>1</td>\n",
       "    </tr>\n",
       "    <tr>\n",
       "      <th>185</th>\n",
       "      <td>Red Bull</td>\n",
       "      <td>Sergio PÃ©rez</td>\n",
       "      <td>1</td>\n",
       "    </tr>\n",
       "    <tr>\n",
       "      <th>186</th>\n",
       "      <td>Alpine F1 Team</td>\n",
       "      <td>Esteban Ocon</td>\n",
       "      <td>1</td>\n",
       "    </tr>\n",
       "    <tr>\n",
       "      <th>187</th>\n",
       "      <td>McLaren</td>\n",
       "      <td>Daniel Ricciardo</td>\n",
       "      <td>1</td>\n",
       "    </tr>\n",
       "  </tbody>\n",
       "</table>\n",
       "<p>188 rows × 3 columns</p>\n",
       "</div>"
      ],
      "text/plain": [
       "    constructor_name         driver_name  wins\n",
       "0           Mercedes      Lewis Hamilton    82\n",
       "1            Ferrari  Michael Schumacher    72\n",
       "2           Red Bull    Sebastian Vettel    38\n",
       "3            McLaren        Ayrton Senna    35\n",
       "4            McLaren         Alain Prost    30\n",
       "..               ...                 ...   ...\n",
       "183       AlphaTauri        Pierre Gasly     1\n",
       "184     Racing Point       Sergio PÃ©rez     1\n",
       "185         Red Bull       Sergio PÃ©rez     1\n",
       "186   Alpine F1 Team        Esteban Ocon     1\n",
       "187          McLaren    Daniel Ricciardo     1\n",
       "\n",
       "[188 rows x 3 columns]"
      ]
     },
     "execution_count": 88,
     "metadata": {},
     "output_type": "execute_result"
    }
   ],
   "source": [
    "top_wins_per_driver_constructor"
   ]
  },
  {
   "cell_type": "code",
   "execution_count": 154,
   "metadata": {},
   "outputs": [
    {
     "data": {
      "application/vnd.plotly.v1+json": {
       "config": {
        "plotlyServerURL": "https://plot.ly"
       },
       "data": [
        {
         "alignmentgroup": "True",
         "hovertemplate": "constructor_name=Mercedes<br>wins=%{text}<br>driver_name=%{y}<extra></extra>",
         "legendgroup": "Mercedes",
         "marker": {
          "color": "#636efa",
          "pattern": {
           "shape": ""
          }
         },
         "name": "Mercedes",
         "offsetgroup": "Mercedes",
         "orientation": "h",
         "showlegend": true,
         "text": [
          82,
          23,
          10,
          8,
          1
         ],
         "textposition": "auto",
         "type": "bar",
         "width": 0.9,
         "x": [
          82,
          23,
          10,
          8,
          1
         ],
         "xaxis": "x",
         "y": [
          "Lewis Hamilton",
          "Nico Rosberg",
          "Valtteri Bottas",
          "Juan Fangio",
          "Stirling Moss"
         ],
         "yaxis": "y"
        },
        {
         "alignmentgroup": "True",
         "hovertemplate": "constructor_name=Ferrari<br>wins=%{text}<br>driver_name=%{y}<extra></extra>",
         "legendgroup": "Ferrari",
         "marker": {
          "color": "#EF553B",
          "pattern": {
           "shape": ""
          }
         },
         "name": "Ferrari",
         "offsetgroup": "Ferrari",
         "orientation": "h",
         "showlegend": true,
         "text": [
          72,
          15,
          14,
          13,
          11,
          11,
          10,
          9,
          6,
          6,
          5,
          5,
          5,
          4,
          4,
          4,
          4,
          3,
          3,
          3,
          3,
          3,
          3,
          3,
          3,
          2,
          2,
          2,
          2,
          2,
          1,
          1,
          1,
          1,
          1,
          1,
          1,
          1,
          1
         ],
         "textposition": "auto",
         "type": "bar",
         "width": 0.9,
         "x": [
          72,
          15,
          14,
          13,
          11,
          11,
          10,
          9,
          6,
          6,
          5,
          5,
          5,
          4,
          4,
          4,
          4,
          3,
          3,
          3,
          3,
          3,
          3,
          3,
          3,
          2,
          2,
          2,
          2,
          2,
          1,
          1,
          1,
          1,
          1,
          1,
          1,
          1,
          1
         ],
         "xaxis": "x",
         "y": [
          "Michael Schumacher",
          "Niki Lauda",
          "Sebastian Vettel",
          "Alberto Ascari",
          "Felipe Massa",
          "Fernando Alonso",
          "Kimi RÃ¤ikkÃ¶nen",
          "Rubens Barrichello",
          "Gilles Villeneuve",
          "Jacky Ickx",
          "Gerhard Berger",
          "Alain Prost",
          "Carlos Reutemann",
          "Eddie Irvine",
          "Clay Regazzoni",
          "John Surtees",
          "Charles Leclerc",
          "Nigel Mansell",
          "Michele Alboreto",
          "RenÃ© Arnoux",
          "Jody Scheckter",
          "Phil Hill",
          "Mike Hawthorn",
          "Peter Collins",
          "Juan Fangio",
          "Patrick Tambay",
          "Didier Pironi",
          "Wolfgang von Trips",
          "Tony Brooks",
          "JosÃ© FroilÃ¡n GonzÃ¡lez",
          "Jean Alesi",
          "Mario Andretti",
          "Ludovico Scarfiotti",
          "Lorenzo Bandini",
          "Giancarlo Baghetti",
          "Luigi Musso",
          "Maurice Trintignant",
          "Nino Farina",
          "Piero Taruffi"
         ],
         "yaxis": "y"
        },
        {
         "alignmentgroup": "True",
         "hovertemplate": "constructor_name=Red Bull<br>wins=%{text}<br>driver_name=%{y}<extra></extra>",
         "legendgroup": "Red Bull",
         "marker": {
          "color": "#00cc96",
          "pattern": {
           "shape": ""
          }
         },
         "name": "Red Bull",
         "offsetgroup": "Red Bull",
         "orientation": "h",
         "showlegend": true,
         "text": [
          38,
          21,
          9,
          7,
          1
         ],
         "textposition": "auto",
         "type": "bar",
         "width": 0.9,
         "x": [
          38,
          21,
          9,
          7,
          1
         ],
         "xaxis": "x",
         "y": [
          "Sebastian Vettel",
          "Max Verstappen",
          "Mark Webber",
          "Daniel Ricciardo",
          "Sergio PÃ©rez"
         ],
         "yaxis": "y"
        },
        {
         "alignmentgroup": "True",
         "hovertemplate": "constructor_name=McLaren<br>wins=%{text}<br>driver_name=%{y}<extra></extra>",
         "legendgroup": "McLaren",
         "marker": {
          "color": "#ab63fa",
          "pattern": {
           "shape": ""
          }
         },
         "name": "McLaren",
         "offsetgroup": "McLaren",
         "orientation": "h",
         "showlegend": true,
         "text": [
          35,
          30,
          21,
          20,
          12,
          9,
          9,
          8,
          8,
          5,
          4,
          4,
          3,
          3,
          3,
          2,
          1,
          1,
          1
         ],
         "textposition": "auto",
         "type": "bar",
         "width": 0.9,
         "x": [
          35,
          30,
          21,
          20,
          12,
          9,
          9,
          8,
          8,
          5,
          4,
          4,
          3,
          3,
          3,
          2,
          1,
          1,
          1
         ],
         "xaxis": "x",
         "y": [
          "Ayrton Senna",
          "Alain Prost",
          "Lewis Hamilton",
          "Mika HÃ¤kkinen",
          "David Coulthard",
          "Kimi RÃ¤ikkÃ¶nen",
          "James Hunt",
          "Niki Lauda",
          "Jenson Button",
          "Emerson Fittipaldi",
          "Fernando Alonso",
          "John Watson",
          "Juan Pablo Montoya",
          "Gerhard Berger",
          "Denny Hulme",
          "Peter Revson",
          "Heikki Kovalainen",
          "Jochen Mass",
          "Daniel Ricciardo"
         ],
         "yaxis": "y"
        },
        {
         "alignmentgroup": "True",
         "hovertemplate": "constructor_name=Williams<br>wins=%{text}<br>driver_name=%{y}<extra></extra>",
         "legendgroup": "Williams",
         "marker": {
          "color": "#FFA15A",
          "pattern": {
           "shape": ""
          }
         },
         "name": "Williams",
         "offsetgroup": "Williams",
         "orientation": "h",
         "showlegend": true,
         "text": [
          28,
          21,
          11,
          11,
          7,
          7,
          6,
          5,
          4,
          4,
          3,
          3,
          1,
          1,
          1,
          1
         ],
         "textposition": "auto",
         "type": "bar",
         "width": 0.9,
         "x": [
          28,
          21,
          11,
          11,
          7,
          7,
          6,
          5,
          4,
          4,
          3,
          3,
          1,
          1,
          1,
          1
         ],
         "xaxis": "x",
         "y": [
          "Nigel Mansell",
          "Damon Hill",
          "Jacques Villeneuve",
          "Alan Jones",
          "Alain Prost",
          "Nelson Piquet",
          "Ralf Schumacher",
          "Keke Rosberg",
          "Juan Pablo Montoya",
          "Riccardo Patrese",
          "Thierry Boutsen",
          "Carlos Reutemann",
          "Heinz-Harald Frentzen",
          "David Coulthard",
          "Clay Regazzoni",
          "Pastor Maldonado"
         ],
         "yaxis": "y"
        },
        {
         "alignmentgroup": "True",
         "hovertemplate": "constructor_name=Benetton<br>wins=%{text}<br>driver_name=%{y}<extra></extra>",
         "legendgroup": "Benetton",
         "marker": {
          "color": "#19d3f3",
          "pattern": {
           "shape": ""
          }
         },
         "name": "Benetton",
         "offsetgroup": "Benetton",
         "orientation": "h",
         "showlegend": true,
         "text": [
          19,
          3,
          2,
          2,
          1
         ],
         "textposition": "auto",
         "type": "bar",
         "width": 0.9,
         "x": [
          19,
          3,
          2,
          2,
          1
         ],
         "xaxis": "x",
         "y": [
          "Michael Schumacher",
          "Nelson Piquet",
          "Gerhard Berger",
          "Johnny Herbert",
          "Alessandro Nannini"
         ],
         "yaxis": "y"
        },
        {
         "alignmentgroup": "True",
         "hovertemplate": "constructor_name=Lotus-Climax<br>wins=%{text}<br>driver_name=%{y}<extra></extra>",
         "legendgroup": "Lotus-Climax",
         "marker": {
          "color": "#FF6692",
          "pattern": {
           "shape": ""
          }
         },
         "name": "Lotus-Climax",
         "offsetgroup": "Lotus-Climax",
         "orientation": "h",
         "showlegend": true,
         "text": [
          19,
          2,
          1
         ],
         "textposition": "auto",
         "type": "bar",
         "width": 0.9,
         "x": [
          19,
          2,
          1
         ],
         "xaxis": "x",
         "y": [
          "Jim Clark",
          "Stirling Moss",
          "Innes Ireland"
         ],
         "yaxis": "y"
        },
        {
         "alignmentgroup": "True",
         "hovertemplate": "constructor_name=Renault<br>wins=%{text}<br>driver_name=%{y}<extra></extra>",
         "legendgroup": "Renault",
         "marker": {
          "color": "#B6E880",
          "pattern": {
           "shape": ""
          }
         },
         "name": "Renault",
         "offsetgroup": "Renault",
         "orientation": "h",
         "showlegend": true,
         "text": [
          17,
          9,
          4,
          2,
          2,
          1
         ],
         "textposition": "auto",
         "type": "bar",
         "width": 0.9,
         "x": [
          17,
          9,
          4,
          2,
          2,
          1
         ],
         "xaxis": "x",
         "y": [
          "Fernando Alonso",
          "Alain Prost",
          "RenÃ© Arnoux",
          "Giancarlo Fisichella",
          "Jean-Pierre Jabouille",
          "Jarno Trulli"
         ],
         "yaxis": "y"
        },
        {
         "alignmentgroup": "True",
         "hovertemplate": "constructor_name=Tyrrell<br>wins=%{text}<br>driver_name=%{y}<extra></extra>",
         "legendgroup": "Tyrrell",
         "marker": {
          "color": "#FF97FF",
          "pattern": {
           "shape": ""
          }
         },
         "name": "Tyrrell",
         "offsetgroup": "Tyrrell",
         "orientation": "h",
         "showlegend": true,
         "text": [
          15,
          4,
          2,
          1,
          1
         ],
         "textposition": "auto",
         "type": "bar",
         "width": 0.9,
         "x": [
          15,
          4,
          2,
          1,
          1
         ],
         "xaxis": "x",
         "y": [
          "Jackie Stewart",
          "Jody Scheckter",
          "Michele Alboreto",
          "Patrick Depailler",
          "FranÃ§ois Cevert"
         ],
         "yaxis": "y"
        },
        {
         "alignmentgroup": "True",
         "hovertemplate": "constructor_name=Brabham<br>wins=%{text}<br>driver_name=%{y}<extra></extra>",
         "legendgroup": "Brabham",
         "marker": {
          "color": "#FECB52",
          "pattern": {
           "shape": ""
          }
         },
         "name": "Brabham",
         "offsetgroup": "Brabham",
         "orientation": "h",
         "showlegend": true,
         "text": [
          13,
          4,
          2,
          2,
          1,
          1
         ],
         "textposition": "auto",
         "type": "bar",
         "width": 0.9,
         "x": [
          13,
          4,
          2,
          2,
          1,
          1
         ],
         "xaxis": "x",
         "y": [
          "Nelson Piquet",
          "Carlos Reutemann",
          "Riccardo Patrese",
          "Niki Lauda",
          "Carlos Pace",
          "Jack Brabham"
         ],
         "yaxis": "y"
        },
        {
         "alignmentgroup": "True",
         "hovertemplate": "constructor_name=Team Lotus<br>wins=%{text}<br>driver_name=%{y}<extra></extra>",
         "legendgroup": "Team Lotus",
         "marker": {
          "color": "#636efa",
          "pattern": {
           "shape": ""
          }
         },
         "name": "Team Lotus",
         "offsetgroup": "Team Lotus",
         "orientation": "h",
         "showlegend": true,
         "text": [
          11,
          9,
          9,
          6,
          5,
          2,
          2,
          1
         ],
         "textposition": "auto",
         "type": "bar",
         "width": 0.9,
         "x": [
          11,
          9,
          9,
          6,
          5,
          2,
          2,
          1
         ],
         "xaxis": "x",
         "y": [
          "Mario Andretti",
          "Ronnie Peterson",
          "Emerson Fittipaldi",
          "Ayrton Senna",
          "Jochen Rindt",
          "Elio de Angelis",
          "Stirling Moss",
          "Gunnar Nilsson"
         ],
         "yaxis": "y"
        },
        {
         "alignmentgroup": "True",
         "hovertemplate": "constructor_name=BRM<br>wins=%{text}<br>driver_name=%{y}<extra></extra>",
         "legendgroup": "BRM",
         "marker": {
          "color": "#EF553B",
          "pattern": {
           "shape": ""
          }
         },
         "name": "BRM",
         "offsetgroup": "BRM",
         "orientation": "h",
         "showlegend": true,
         "text": [
          10,
          2,
          1,
          1,
          1,
          1,
          1
         ],
         "textposition": "auto",
         "type": "bar",
         "width": 0.9,
         "x": [
          10,
          2,
          1,
          1,
          1,
          1,
          1
         ],
         "xaxis": "x",
         "y": [
          "Graham Hill",
          "Jackie Stewart",
          "Jean-Pierre Beltoise",
          "Jo Siffert",
          "Peter Gethin",
          "Pedro RodrÃ­guez",
          "Jo Bonnier"
         ],
         "yaxis": "y"
        },
        {
         "alignmentgroup": "True",
         "hovertemplate": "constructor_name=Matra-Ford<br>wins=%{text}<br>driver_name=%{y}<extra></extra>",
         "legendgroup": "Matra-Ford",
         "marker": {
          "color": "#00cc96",
          "pattern": {
           "shape": ""
          }
         },
         "name": "Matra-Ford",
         "offsetgroup": "Matra-Ford",
         "orientation": "h",
         "showlegend": true,
         "text": [
          9
         ],
         "textposition": "auto",
         "type": "bar",
         "width": 0.9,
         "x": [
          9
         ],
         "xaxis": "x",
         "y": [
          "Jackie Stewart"
         ],
         "yaxis": "y"
        },
        {
         "alignmentgroup": "True",
         "hovertemplate": "constructor_name=Cooper-Climax<br>wins=%{text}<br>driver_name=%{y}<extra></extra>",
         "legendgroup": "Cooper-Climax",
         "marker": {
          "color": "#ab63fa",
          "pattern": {
           "shape": ""
          }
         },
         "name": "Cooper-Climax",
         "offsetgroup": "Cooper-Climax",
         "orientation": "h",
         "showlegend": true,
         "text": [
          7,
          3,
          2
         ],
         "textposition": "auto",
         "type": "bar",
         "width": 0.9,
         "x": [
          7,
          3,
          2
         ],
         "xaxis": "x",
         "y": [
          "Jack Brabham",
          "Bruce McLaren",
          "Stirling Moss"
         ],
         "yaxis": "y"
        },
        {
         "alignmentgroup": "True",
         "hovertemplate": "constructor_name=Maserati<br>wins=%{text}<br>driver_name=%{y}<extra></extra>",
         "legendgroup": "Maserati",
         "marker": {
          "color": "#FFA15A",
          "pattern": {
           "shape": ""
          }
         },
         "name": "Maserati",
         "offsetgroup": "Maserati",
         "orientation": "h",
         "showlegend": true,
         "text": [
          7,
          2
         ],
         "textposition": "auto",
         "type": "bar",
         "width": 0.9,
         "x": [
          7,
          2
         ],
         "xaxis": "x",
         "y": [
          "Juan Fangio",
          "Stirling Moss"
         ],
         "yaxis": "y"
        },
        {
         "alignmentgroup": "True",
         "hovertemplate": "constructor_name=Brawn<br>wins=%{text}<br>driver_name=%{y}<extra></extra>",
         "legendgroup": "Brawn",
         "marker": {
          "color": "#19d3f3",
          "pattern": {
           "shape": ""
          }
         },
         "name": "Brawn",
         "offsetgroup": "Brawn",
         "orientation": "h",
         "showlegend": true,
         "text": [
          6,
          2
         ],
         "textposition": "auto",
         "type": "bar",
         "width": 0.9,
         "x": [
          6,
          2
         ],
         "xaxis": "x",
         "y": [
          "Jenson Button",
          "Rubens Barrichello"
         ],
         "yaxis": "y"
        },
        {
         "alignmentgroup": "True",
         "hovertemplate": "constructor_name=Ligier<br>wins=%{text}<br>driver_name=%{y}<extra></extra>",
         "legendgroup": "Ligier",
         "marker": {
          "color": "#FF6692",
          "pattern": {
           "shape": ""
          }
         },
         "name": "Ligier",
         "offsetgroup": "Ligier",
         "orientation": "h",
         "showlegend": true,
         "text": [
          6,
          1,
          1,
          1
         ],
         "textposition": "auto",
         "type": "bar",
         "width": 0.9,
         "x": [
          6,
          1,
          1,
          1
         ],
         "xaxis": "x",
         "y": [
          "Jacques Laffite",
          "Olivier Panis",
          "Didier Pironi",
          "Patrick Depailler"
         ],
         "yaxis": "y"
        },
        {
         "alignmentgroup": "True",
         "hovertemplate": "constructor_name=Brabham-Repco<br>wins=%{text}<br>driver_name=%{y}<extra></extra>",
         "legendgroup": "Brabham-Repco",
         "marker": {
          "color": "#B6E880",
          "pattern": {
           "shape": ""
          }
         },
         "name": "Brabham-Repco",
         "offsetgroup": "Brabham-Repco",
         "orientation": "h",
         "showlegend": true,
         "text": [
          6,
          2
         ],
         "textposition": "auto",
         "type": "bar",
         "width": 0.9,
         "x": [
          6,
          2
         ],
         "xaxis": "x",
         "y": [
          "Jack Brabham",
          "Denny Hulme"
         ],
         "yaxis": "y"
        },
        {
         "alignmentgroup": "True",
         "hovertemplate": "constructor_name=Vanwall<br>wins=%{text}<br>driver_name=%{y}<extra></extra>",
         "legendgroup": "Vanwall",
         "marker": {
          "color": "#FF97FF",
          "pattern": {
           "shape": ""
          }
         },
         "name": "Vanwall",
         "offsetgroup": "Vanwall",
         "orientation": "h",
         "showlegend": true,
         "text": [
          6,
          4
         ],
         "textposition": "auto",
         "type": "bar",
         "width": 0.9,
         "x": [
          6,
          4
         ],
         "xaxis": "x",
         "y": [
          "Stirling Moss",
          "Tony Brooks"
         ],
         "yaxis": "y"
        },
        {
         "alignmentgroup": "True",
         "hovertemplate": "constructor_name=Alfa Romeo<br>wins=%{text}<br>driver_name=%{y}<extra></extra>",
         "legendgroup": "Alfa Romeo",
         "marker": {
          "color": "#FECB52",
          "pattern": {
           "shape": ""
          }
         },
         "name": "Alfa Romeo",
         "offsetgroup": "Alfa Romeo",
         "orientation": "h",
         "showlegend": true,
         "text": [
          6,
          4,
          1
         ],
         "textposition": "auto",
         "type": "bar",
         "width": 0.9,
         "x": [
          6,
          4,
          1
         ],
         "xaxis": "x",
         "y": [
          "Juan Fangio",
          "Nino Farina",
          "Luigi Fagioli"
         ],
         "yaxis": "y"
        },
        {
         "alignmentgroup": "True",
         "hovertemplate": "constructor_name=Lotus-Ford<br>wins=%{text}<br>driver_name=%{y}<extra></extra>",
         "legendgroup": "Lotus-Ford",
         "marker": {
          "color": "#636efa",
          "pattern": {
           "shape": ""
          }
         },
         "name": "Lotus-Ford",
         "offsetgroup": "Lotus-Ford",
         "orientation": "h",
         "showlegend": true,
         "text": [
          5,
          4,
          1,
          1
         ],
         "textposition": "auto",
         "type": "bar",
         "width": 0.9,
         "x": [
          5,
          4,
          1,
          1
         ],
         "xaxis": "x",
         "y": [
          "Jim Clark",
          "Graham Hill",
          "Jochen Rindt",
          "Jo Siffert"
         ],
         "yaxis": "y"
        },
        {
         "alignmentgroup": "True",
         "hovertemplate": "constructor_name=Wolf<br>wins=%{text}<br>driver_name=%{y}<extra></extra>",
         "legendgroup": "Wolf",
         "marker": {
          "color": "#EF553B",
          "pattern": {
           "shape": ""
          }
         },
         "name": "Wolf",
         "offsetgroup": "Wolf",
         "orientation": "h",
         "showlegend": true,
         "text": [
          3
         ],
         "textposition": "auto",
         "type": "bar",
         "width": 0.9,
         "x": [
          3
         ],
         "xaxis": "x",
         "y": [
          "Jody Scheckter"
         ],
         "yaxis": "y"
        },
        {
         "alignmentgroup": "True",
         "hovertemplate": "constructor_name=McLaren-Ford<br>wins=%{text}<br>driver_name=%{y}<extra></extra>",
         "legendgroup": "McLaren-Ford",
         "marker": {
          "color": "#00cc96",
          "pattern": {
           "shape": ""
          }
         },
         "name": "McLaren-Ford",
         "offsetgroup": "McLaren-Ford",
         "orientation": "h",
         "showlegend": true,
         "text": [
          3,
          1
         ],
         "textposition": "auto",
         "type": "bar",
         "width": 0.9,
         "x": [
          3,
          1
         ],
         "xaxis": "x",
         "y": [
          "Denny Hulme",
          "Bruce McLaren"
         ],
         "yaxis": "y"
        },
        {
         "alignmentgroup": "True",
         "hovertemplate": "constructor_name=Jordan<br>wins=%{text}<br>driver_name=%{y}<extra></extra>",
         "legendgroup": "Jordan",
         "marker": {
          "color": "#ab63fa",
          "pattern": {
           "shape": ""
          }
         },
         "name": "Jordan",
         "offsetgroup": "Jordan",
         "orientation": "h",
         "showlegend": true,
         "text": [
          2,
          1,
          1
         ],
         "textposition": "auto",
         "type": "bar",
         "width": 0.9,
         "x": [
          2,
          1,
          1
         ],
         "xaxis": "x",
         "y": [
          "Heinz-Harald Frentzen",
          "Giancarlo Fisichella",
          "Damon Hill"
         ],
         "yaxis": "y"
        },
        {
         "alignmentgroup": "True",
         "hovertemplate": "constructor_name=Brabham-Ford<br>wins=%{text}<br>driver_name=%{y}<extra></extra>",
         "legendgroup": "Brabham-Ford",
         "marker": {
          "color": "#FFA15A",
          "pattern": {
           "shape": ""
          }
         },
         "name": "Brabham-Ford",
         "offsetgroup": "Brabham-Ford",
         "orientation": "h",
         "showlegend": true,
         "text": [
          2
         ],
         "textposition": "auto",
         "type": "bar",
         "width": 0.9,
         "x": [
          2
         ],
         "xaxis": "x",
         "y": [
          "Jacky Ickx"
         ],
         "yaxis": "y"
        },
        {
         "alignmentgroup": "True",
         "hovertemplate": "constructor_name=Brabham-Climax<br>wins=%{text}<br>driver_name=%{y}<extra></extra>",
         "legendgroup": "Brabham-Climax",
         "marker": {
          "color": "#19d3f3",
          "pattern": {
           "shape": ""
          }
         },
         "name": "Brabham-Climax",
         "offsetgroup": "Brabham-Climax",
         "orientation": "h",
         "showlegend": true,
         "text": [
          2
         ],
         "textposition": "auto",
         "type": "bar",
         "width": 0.9,
         "x": [
          2
         ],
         "xaxis": "x",
         "y": [
          "Dan Gurney"
         ],
         "yaxis": "y"
        },
        {
         "alignmentgroup": "True",
         "hovertemplate": "constructor_name=Kurtis Kraft<br>wins=%{text}<br>driver_name=%{y}<extra></extra>",
         "legendgroup": "Kurtis Kraft",
         "marker": {
          "color": "#FF6692",
          "pattern": {
           "shape": ""
          }
         },
         "name": "Kurtis Kraft",
         "offsetgroup": "Kurtis Kraft",
         "orientation": "h",
         "showlegend": true,
         "text": [
          2,
          1,
          1,
          1
         ],
         "textposition": "auto",
         "type": "bar",
         "width": 0.9,
         "x": [
          2,
          1,
          1,
          1
         ],
         "xaxis": "x",
         "y": [
          "Bill Vukovich",
          "Bob Sweikert",
          "Lee Wallard",
          "Johnnie Parsons"
         ],
         "yaxis": "y"
        },
        {
         "alignmentgroup": "True",
         "hovertemplate": "constructor_name=Lotus F1<br>wins=%{text}<br>driver_name=%{y}<extra></extra>",
         "legendgroup": "Lotus F1",
         "marker": {
          "color": "#B6E880",
          "pattern": {
           "shape": ""
          }
         },
         "name": "Lotus F1",
         "offsetgroup": "Lotus F1",
         "orientation": "h",
         "showlegend": true,
         "text": [
          2
         ],
         "textposition": "auto",
         "type": "bar",
         "width": 0.9,
         "x": [
          2
         ],
         "xaxis": "x",
         "y": [
          "Kimi RÃ¤ikkÃ¶nen"
         ],
         "yaxis": "y"
        },
        {
         "alignmentgroup": "True",
         "hovertemplate": "constructor_name=BMW Sauber<br>wins=%{text}<br>driver_name=%{y}<extra></extra>",
         "legendgroup": "BMW Sauber",
         "marker": {
          "color": "#FF97FF",
          "pattern": {
           "shape": ""
          }
         },
         "name": "BMW Sauber",
         "offsetgroup": "BMW Sauber",
         "orientation": "h",
         "showlegend": true,
         "text": [
          1
         ],
         "textposition": "auto",
         "type": "bar",
         "width": 0.9,
         "x": [
          1
         ],
         "xaxis": "x",
         "y": [
          "Robert Kubica"
         ],
         "yaxis": "y"
        },
        {
         "alignmentgroup": "True",
         "hovertemplate": "constructor_name=Toro Rosso<br>wins=%{text}<br>driver_name=%{y}<extra></extra>",
         "legendgroup": "Toro Rosso",
         "marker": {
          "color": "#FECB52",
          "pattern": {
           "shape": ""
          }
         },
         "name": "Toro Rosso",
         "offsetgroup": "Toro Rosso",
         "orientation": "h",
         "showlegend": true,
         "text": [
          1
         ],
         "textposition": "auto",
         "type": "bar",
         "width": 0.9,
         "x": [
          1
         ],
         "xaxis": "x",
         "y": [
          "Sebastian Vettel"
         ],
         "yaxis": "y"
        },
        {
         "alignmentgroup": "True",
         "hovertemplate": "constructor_name=Honda<br>wins=%{text}<br>driver_name=%{y}<extra></extra>",
         "legendgroup": "Honda",
         "marker": {
          "color": "#636efa",
          "pattern": {
           "shape": ""
          }
         },
         "name": "Honda",
         "offsetgroup": "Honda",
         "orientation": "h",
         "showlegend": true,
         "text": [
          1,
          1,
          1
         ],
         "textposition": "auto",
         "type": "bar",
         "width": 0.9,
         "x": [
          1,
          1,
          1
         ],
         "xaxis": "x",
         "y": [
          "Jenson Button",
          "John Surtees",
          "Richie Ginther"
         ],
         "yaxis": "y"
        },
        {
         "alignmentgroup": "True",
         "hovertemplate": "constructor_name=Stewart<br>wins=%{text}<br>driver_name=%{y}<extra></extra>",
         "legendgroup": "Stewart",
         "marker": {
          "color": "#EF553B",
          "pattern": {
           "shape": ""
          }
         },
         "name": "Stewart",
         "offsetgroup": "Stewart",
         "orientation": "h",
         "showlegend": true,
         "text": [
          1
         ],
         "textposition": "auto",
         "type": "bar",
         "width": 0.9,
         "x": [
          1
         ],
         "xaxis": "x",
         "y": [
          "Johnny Herbert"
         ],
         "yaxis": "y"
        },
        {
         "alignmentgroup": "True",
         "hovertemplate": "constructor_name=Shadow<br>wins=%{text}<br>driver_name=%{y}<extra></extra>",
         "legendgroup": "Shadow",
         "marker": {
          "color": "#00cc96",
          "pattern": {
           "shape": ""
          }
         },
         "name": "Shadow",
         "offsetgroup": "Shadow",
         "orientation": "h",
         "showlegend": true,
         "text": [
          1
         ],
         "textposition": "auto",
         "type": "bar",
         "width": 0.9,
         "x": [
          1
         ],
         "xaxis": "x",
         "y": [
          "Alan Jones"
         ],
         "yaxis": "y"
        },
        {
         "alignmentgroup": "True",
         "hovertemplate": "constructor_name=Penske<br>wins=%{text}<br>driver_name=%{y}<extra></extra>",
         "legendgroup": "Penske",
         "marker": {
          "color": "#ab63fa",
          "pattern": {
           "shape": ""
          }
         },
         "name": "Penske",
         "offsetgroup": "Penske",
         "orientation": "h",
         "showlegend": true,
         "text": [
          1
         ],
         "textposition": "auto",
         "type": "bar",
         "width": 0.9,
         "x": [
          1
         ],
         "xaxis": "x",
         "y": [
          "John Watson"
         ],
         "yaxis": "y"
        },
        {
         "alignmentgroup": "True",
         "hovertemplate": "constructor_name=March<br>wins=%{text}<br>driver_name=%{y}<extra></extra>",
         "legendgroup": "March",
         "marker": {
          "color": "#FFA15A",
          "pattern": {
           "shape": ""
          }
         },
         "name": "March",
         "offsetgroup": "March",
         "orientation": "h",
         "showlegend": true,
         "text": [
          1,
          1,
          1
         ],
         "textposition": "auto",
         "type": "bar",
         "width": 0.9,
         "x": [
          1,
          1,
          1
         ],
         "xaxis": "x",
         "y": [
          "Ronnie Peterson",
          "Vittorio Brambilla",
          "Jackie Stewart"
         ],
         "yaxis": "y"
        },
        {
         "alignmentgroup": "True",
         "hovertemplate": "constructor_name=Hesketh<br>wins=%{text}<br>driver_name=%{y}<extra></extra>",
         "legendgroup": "Hesketh",
         "marker": {
          "color": "#19d3f3",
          "pattern": {
           "shape": ""
          }
         },
         "name": "Hesketh",
         "offsetgroup": "Hesketh",
         "orientation": "h",
         "showlegend": true,
         "text": [
          1
         ],
         "textposition": "auto",
         "type": "bar",
         "width": 0.9,
         "x": [
          1
         ],
         "xaxis": "x",
         "y": [
          "James Hunt"
         ],
         "yaxis": "y"
        },
        {
         "alignmentgroup": "True",
         "hovertemplate": "constructor_name=Cooper-Maserati<br>wins=%{text}<br>driver_name=%{y}<extra></extra>",
         "legendgroup": "Cooper-Maserati",
         "marker": {
          "color": "#FF6692",
          "pattern": {
           "shape": ""
          }
         },
         "name": "Cooper-Maserati",
         "offsetgroup": "Cooper-Maserati",
         "orientation": "h",
         "showlegend": true,
         "text": [
          1,
          1
         ],
         "textposition": "auto",
         "type": "bar",
         "width": 0.9,
         "x": [
          1,
          1
         ],
         "xaxis": "x",
         "y": [
          "Pedro RodrÃ­guez",
          "John Surtees"
         ],
         "yaxis": "y"
        },
        {
         "alignmentgroup": "True",
         "hovertemplate": "constructor_name=Eagle-Weslake<br>wins=%{text}<br>driver_name=%{y}<extra></extra>",
         "legendgroup": "Eagle-Weslake",
         "marker": {
          "color": "#B6E880",
          "pattern": {
           "shape": ""
          }
         },
         "name": "Eagle-Weslake",
         "offsetgroup": "Eagle-Weslake",
         "orientation": "h",
         "showlegend": true,
         "text": [
          1
         ],
         "textposition": "auto",
         "type": "bar",
         "width": 0.9,
         "x": [
          1
         ],
         "xaxis": "x",
         "y": [
          "Dan Gurney"
         ],
         "yaxis": "y"
        },
        {
         "alignmentgroup": "True",
         "hovertemplate": "constructor_name=Lotus-BRM<br>wins=%{text}<br>driver_name=%{y}<extra></extra>",
         "legendgroup": "Lotus-BRM",
         "marker": {
          "color": "#FF97FF",
          "pattern": {
           "shape": ""
          }
         },
         "name": "Lotus-BRM",
         "offsetgroup": "Lotus-BRM",
         "orientation": "h",
         "showlegend": true,
         "text": [
          1
         ],
         "textposition": "auto",
         "type": "bar",
         "width": 0.9,
         "x": [
          1
         ],
         "xaxis": "x",
         "y": [
          "Jim Clark"
         ],
         "yaxis": "y"
        },
        {
         "alignmentgroup": "True",
         "hovertemplate": "constructor_name=Porsche<br>wins=%{text}<br>driver_name=%{y}<extra></extra>",
         "legendgroup": "Porsche",
         "marker": {
          "color": "#FECB52",
          "pattern": {
           "shape": ""
          }
         },
         "name": "Porsche",
         "offsetgroup": "Porsche",
         "orientation": "h",
         "showlegend": true,
         "text": [
          1
         ],
         "textposition": "auto",
         "type": "bar",
         "width": 0.9,
         "x": [
          1
         ],
         "xaxis": "x",
         "y": [
          "Dan Gurney"
         ],
         "yaxis": "y"
        },
        {
         "alignmentgroup": "True",
         "hovertemplate": "constructor_name=Watson<br>wins=%{text}<br>driver_name=%{y}<extra></extra>",
         "legendgroup": "Watson",
         "marker": {
          "color": "#636efa",
          "pattern": {
           "shape": ""
          }
         },
         "name": "Watson",
         "offsetgroup": "Watson",
         "orientation": "h",
         "showlegend": true,
         "text": [
          1,
          1,
          1
         ],
         "textposition": "auto",
         "type": "bar",
         "width": 0.9,
         "x": [
          1,
          1,
          1
         ],
         "xaxis": "x",
         "y": [
          "Jim Rathmann",
          "Rodger Ward",
          "Pat Flaherty"
         ],
         "yaxis": "y"
        },
        {
         "alignmentgroup": "True",
         "hovertemplate": "constructor_name=Cooper<br>wins=%{text}<br>driver_name=%{y}<extra></extra>",
         "legendgroup": "Cooper",
         "marker": {
          "color": "#EF553B",
          "pattern": {
           "shape": ""
          }
         },
         "name": "Cooper",
         "offsetgroup": "Cooper",
         "orientation": "h",
         "showlegend": true,
         "text": [
          1,
          1
         ],
         "textposition": "auto",
         "type": "bar",
         "width": 0.9,
         "x": [
          1,
          1
         ],
         "xaxis": "x",
         "y": [
          "Stirling Moss",
          "Maurice Trintignant"
         ],
         "yaxis": "y"
        },
        {
         "alignmentgroup": "True",
         "hovertemplate": "constructor_name=Epperly<br>wins=%{text}<br>driver_name=%{y}<extra></extra>",
         "legendgroup": "Epperly",
         "marker": {
          "color": "#00cc96",
          "pattern": {
           "shape": ""
          }
         },
         "name": "Epperly",
         "offsetgroup": "Epperly",
         "orientation": "h",
         "showlegend": true,
         "text": [
          1,
          1
         ],
         "textposition": "auto",
         "type": "bar",
         "width": 0.9,
         "x": [
          1,
          1
         ],
         "xaxis": "x",
         "y": [
          "Jimmy Bryan",
          "Sam Hanks"
         ],
         "yaxis": "y"
        },
        {
         "alignmentgroup": "True",
         "hovertemplate": "constructor_name=Kuzma<br>wins=%{text}<br>driver_name=%{y}<extra></extra>",
         "legendgroup": "Kuzma",
         "marker": {
          "color": "#ab63fa",
          "pattern": {
           "shape": ""
          }
         },
         "name": "Kuzma",
         "offsetgroup": "Kuzma",
         "orientation": "h",
         "showlegend": true,
         "text": [
          1
         ],
         "textposition": "auto",
         "type": "bar",
         "width": 0.9,
         "x": [
          1
         ],
         "xaxis": "x",
         "y": [
          "Troy Ruttman"
         ],
         "yaxis": "y"
        },
        {
         "alignmentgroup": "True",
         "hovertemplate": "constructor_name=AlphaTauri<br>wins=%{text}<br>driver_name=%{y}<extra></extra>",
         "legendgroup": "AlphaTauri",
         "marker": {
          "color": "#FFA15A",
          "pattern": {
           "shape": ""
          }
         },
         "name": "AlphaTauri",
         "offsetgroup": "AlphaTauri",
         "orientation": "h",
         "showlegend": true,
         "text": [
          1
         ],
         "textposition": "auto",
         "type": "bar",
         "width": 0.9,
         "x": [
          1
         ],
         "xaxis": "x",
         "y": [
          "Pierre Gasly"
         ],
         "yaxis": "y"
        },
        {
         "alignmentgroup": "True",
         "hovertemplate": "constructor_name=Racing Point<br>wins=%{text}<br>driver_name=%{y}<extra></extra>",
         "legendgroup": "Racing Point",
         "marker": {
          "color": "#19d3f3",
          "pattern": {
           "shape": ""
          }
         },
         "name": "Racing Point",
         "offsetgroup": "Racing Point",
         "orientation": "h",
         "showlegend": true,
         "text": [
          1
         ],
         "textposition": "auto",
         "type": "bar",
         "width": 0.9,
         "x": [
          1
         ],
         "xaxis": "x",
         "y": [
          "Sergio PÃ©rez"
         ],
         "yaxis": "y"
        },
        {
         "alignmentgroup": "True",
         "hovertemplate": "constructor_name=Alpine F1 Team<br>wins=%{text}<br>driver_name=%{y}<extra></extra>",
         "legendgroup": "Alpine F1 Team",
         "marker": {
          "color": "#FF6692",
          "pattern": {
           "shape": ""
          }
         },
         "name": "Alpine F1 Team",
         "offsetgroup": "Alpine F1 Team",
         "orientation": "h",
         "showlegend": true,
         "text": [
          1
         ],
         "textposition": "auto",
         "type": "bar",
         "width": 0.9,
         "x": [
          1
         ],
         "xaxis": "x",
         "y": [
          "Esteban Ocon"
         ],
         "yaxis": "y"
        }
       ],
       "layout": {
        "barmode": "relative",
        "height": 800,
        "legend": {
         "title": {
          "text": "constructor_name"
         },
         "tracegroupgap": 0
        },
        "margin": {
         "b": 10,
         "l": 10,
         "r": 20,
         "t": 40
        },
        "template": {
         "data": {
          "bar": [
           {
            "error_x": {
             "color": "#2a3f5f"
            },
            "error_y": {
             "color": "#2a3f5f"
            },
            "marker": {
             "line": {
              "color": "#E5ECF6",
              "width": 0.5
             },
             "pattern": {
              "fillmode": "overlay",
              "size": 10,
              "solidity": 0.2
             }
            },
            "type": "bar"
           }
          ],
          "barpolar": [
           {
            "marker": {
             "line": {
              "color": "#E5ECF6",
              "width": 0.5
             },
             "pattern": {
              "fillmode": "overlay",
              "size": 10,
              "solidity": 0.2
             }
            },
            "type": "barpolar"
           }
          ],
          "carpet": [
           {
            "aaxis": {
             "endlinecolor": "#2a3f5f",
             "gridcolor": "white",
             "linecolor": "white",
             "minorgridcolor": "white",
             "startlinecolor": "#2a3f5f"
            },
            "baxis": {
             "endlinecolor": "#2a3f5f",
             "gridcolor": "white",
             "linecolor": "white",
             "minorgridcolor": "white",
             "startlinecolor": "#2a3f5f"
            },
            "type": "carpet"
           }
          ],
          "choropleth": [
           {
            "colorbar": {
             "outlinewidth": 0,
             "ticks": ""
            },
            "type": "choropleth"
           }
          ],
          "contour": [
           {
            "colorbar": {
             "outlinewidth": 0,
             "ticks": ""
            },
            "colorscale": [
             [
              0,
              "#0d0887"
             ],
             [
              0.1111111111111111,
              "#46039f"
             ],
             [
              0.2222222222222222,
              "#7201a8"
             ],
             [
              0.3333333333333333,
              "#9c179e"
             ],
             [
              0.4444444444444444,
              "#bd3786"
             ],
             [
              0.5555555555555556,
              "#d8576b"
             ],
             [
              0.6666666666666666,
              "#ed7953"
             ],
             [
              0.7777777777777778,
              "#fb9f3a"
             ],
             [
              0.8888888888888888,
              "#fdca26"
             ],
             [
              1,
              "#f0f921"
             ]
            ],
            "type": "contour"
           }
          ],
          "contourcarpet": [
           {
            "colorbar": {
             "outlinewidth": 0,
             "ticks": ""
            },
            "type": "contourcarpet"
           }
          ],
          "heatmap": [
           {
            "colorbar": {
             "outlinewidth": 0,
             "ticks": ""
            },
            "colorscale": [
             [
              0,
              "#0d0887"
             ],
             [
              0.1111111111111111,
              "#46039f"
             ],
             [
              0.2222222222222222,
              "#7201a8"
             ],
             [
              0.3333333333333333,
              "#9c179e"
             ],
             [
              0.4444444444444444,
              "#bd3786"
             ],
             [
              0.5555555555555556,
              "#d8576b"
             ],
             [
              0.6666666666666666,
              "#ed7953"
             ],
             [
              0.7777777777777778,
              "#fb9f3a"
             ],
             [
              0.8888888888888888,
              "#fdca26"
             ],
             [
              1,
              "#f0f921"
             ]
            ],
            "type": "heatmap"
           }
          ],
          "heatmapgl": [
           {
            "colorbar": {
             "outlinewidth": 0,
             "ticks": ""
            },
            "colorscale": [
             [
              0,
              "#0d0887"
             ],
             [
              0.1111111111111111,
              "#46039f"
             ],
             [
              0.2222222222222222,
              "#7201a8"
             ],
             [
              0.3333333333333333,
              "#9c179e"
             ],
             [
              0.4444444444444444,
              "#bd3786"
             ],
             [
              0.5555555555555556,
              "#d8576b"
             ],
             [
              0.6666666666666666,
              "#ed7953"
             ],
             [
              0.7777777777777778,
              "#fb9f3a"
             ],
             [
              0.8888888888888888,
              "#fdca26"
             ],
             [
              1,
              "#f0f921"
             ]
            ],
            "type": "heatmapgl"
           }
          ],
          "histogram": [
           {
            "marker": {
             "pattern": {
              "fillmode": "overlay",
              "size": 10,
              "solidity": 0.2
             }
            },
            "type": "histogram"
           }
          ],
          "histogram2d": [
           {
            "colorbar": {
             "outlinewidth": 0,
             "ticks": ""
            },
            "colorscale": [
             [
              0,
              "#0d0887"
             ],
             [
              0.1111111111111111,
              "#46039f"
             ],
             [
              0.2222222222222222,
              "#7201a8"
             ],
             [
              0.3333333333333333,
              "#9c179e"
             ],
             [
              0.4444444444444444,
              "#bd3786"
             ],
             [
              0.5555555555555556,
              "#d8576b"
             ],
             [
              0.6666666666666666,
              "#ed7953"
             ],
             [
              0.7777777777777778,
              "#fb9f3a"
             ],
             [
              0.8888888888888888,
              "#fdca26"
             ],
             [
              1,
              "#f0f921"
             ]
            ],
            "type": "histogram2d"
           }
          ],
          "histogram2dcontour": [
           {
            "colorbar": {
             "outlinewidth": 0,
             "ticks": ""
            },
            "colorscale": [
             [
              0,
              "#0d0887"
             ],
             [
              0.1111111111111111,
              "#46039f"
             ],
             [
              0.2222222222222222,
              "#7201a8"
             ],
             [
              0.3333333333333333,
              "#9c179e"
             ],
             [
              0.4444444444444444,
              "#bd3786"
             ],
             [
              0.5555555555555556,
              "#d8576b"
             ],
             [
              0.6666666666666666,
              "#ed7953"
             ],
             [
              0.7777777777777778,
              "#fb9f3a"
             ],
             [
              0.8888888888888888,
              "#fdca26"
             ],
             [
              1,
              "#f0f921"
             ]
            ],
            "type": "histogram2dcontour"
           }
          ],
          "mesh3d": [
           {
            "colorbar": {
             "outlinewidth": 0,
             "ticks": ""
            },
            "type": "mesh3d"
           }
          ],
          "parcoords": [
           {
            "line": {
             "colorbar": {
              "outlinewidth": 0,
              "ticks": ""
             }
            },
            "type": "parcoords"
           }
          ],
          "pie": [
           {
            "automargin": true,
            "type": "pie"
           }
          ],
          "scatter": [
           {
            "fillpattern": {
             "fillmode": "overlay",
             "size": 10,
             "solidity": 0.2
            },
            "type": "scatter"
           }
          ],
          "scatter3d": [
           {
            "line": {
             "colorbar": {
              "outlinewidth": 0,
              "ticks": ""
             }
            },
            "marker": {
             "colorbar": {
              "outlinewidth": 0,
              "ticks": ""
             }
            },
            "type": "scatter3d"
           }
          ],
          "scattercarpet": [
           {
            "marker": {
             "colorbar": {
              "outlinewidth": 0,
              "ticks": ""
             }
            },
            "type": "scattercarpet"
           }
          ],
          "scattergeo": [
           {
            "marker": {
             "colorbar": {
              "outlinewidth": 0,
              "ticks": ""
             }
            },
            "type": "scattergeo"
           }
          ],
          "scattergl": [
           {
            "marker": {
             "colorbar": {
              "outlinewidth": 0,
              "ticks": ""
             }
            },
            "type": "scattergl"
           }
          ],
          "scattermapbox": [
           {
            "marker": {
             "colorbar": {
              "outlinewidth": 0,
              "ticks": ""
             }
            },
            "type": "scattermapbox"
           }
          ],
          "scatterpolar": [
           {
            "marker": {
             "colorbar": {
              "outlinewidth": 0,
              "ticks": ""
             }
            },
            "type": "scatterpolar"
           }
          ],
          "scatterpolargl": [
           {
            "marker": {
             "colorbar": {
              "outlinewidth": 0,
              "ticks": ""
             }
            },
            "type": "scatterpolargl"
           }
          ],
          "scatterternary": [
           {
            "marker": {
             "colorbar": {
              "outlinewidth": 0,
              "ticks": ""
             }
            },
            "type": "scatterternary"
           }
          ],
          "surface": [
           {
            "colorbar": {
             "outlinewidth": 0,
             "ticks": ""
            },
            "colorscale": [
             [
              0,
              "#0d0887"
             ],
             [
              0.1111111111111111,
              "#46039f"
             ],
             [
              0.2222222222222222,
              "#7201a8"
             ],
             [
              0.3333333333333333,
              "#9c179e"
             ],
             [
              0.4444444444444444,
              "#bd3786"
             ],
             [
              0.5555555555555556,
              "#d8576b"
             ],
             [
              0.6666666666666666,
              "#ed7953"
             ],
             [
              0.7777777777777778,
              "#fb9f3a"
             ],
             [
              0.8888888888888888,
              "#fdca26"
             ],
             [
              1,
              "#f0f921"
             ]
            ],
            "type": "surface"
           }
          ],
          "table": [
           {
            "cells": {
             "fill": {
              "color": "#EBF0F8"
             },
             "line": {
              "color": "white"
             }
            },
            "header": {
             "fill": {
              "color": "#C8D4E3"
             },
             "line": {
              "color": "white"
             }
            },
            "type": "table"
           }
          ]
         },
         "layout": {
          "annotationdefaults": {
           "arrowcolor": "#2a3f5f",
           "arrowhead": 0,
           "arrowwidth": 1
          },
          "autotypenumbers": "strict",
          "coloraxis": {
           "colorbar": {
            "outlinewidth": 0,
            "ticks": ""
           }
          },
          "colorscale": {
           "diverging": [
            [
             0,
             "#8e0152"
            ],
            [
             0.1,
             "#c51b7d"
            ],
            [
             0.2,
             "#de77ae"
            ],
            [
             0.3,
             "#f1b6da"
            ],
            [
             0.4,
             "#fde0ef"
            ],
            [
             0.5,
             "#f7f7f7"
            ],
            [
             0.6,
             "#e6f5d0"
            ],
            [
             0.7,
             "#b8e186"
            ],
            [
             0.8,
             "#7fbc41"
            ],
            [
             0.9,
             "#4d9221"
            ],
            [
             1,
             "#276419"
            ]
           ],
           "sequential": [
            [
             0,
             "#0d0887"
            ],
            [
             0.1111111111111111,
             "#46039f"
            ],
            [
             0.2222222222222222,
             "#7201a8"
            ],
            [
             0.3333333333333333,
             "#9c179e"
            ],
            [
             0.4444444444444444,
             "#bd3786"
            ],
            [
             0.5555555555555556,
             "#d8576b"
            ],
            [
             0.6666666666666666,
             "#ed7953"
            ],
            [
             0.7777777777777778,
             "#fb9f3a"
            ],
            [
             0.8888888888888888,
             "#fdca26"
            ],
            [
             1,
             "#f0f921"
            ]
           ],
           "sequentialminus": [
            [
             0,
             "#0d0887"
            ],
            [
             0.1111111111111111,
             "#46039f"
            ],
            [
             0.2222222222222222,
             "#7201a8"
            ],
            [
             0.3333333333333333,
             "#9c179e"
            ],
            [
             0.4444444444444444,
             "#bd3786"
            ],
            [
             0.5555555555555556,
             "#d8576b"
            ],
            [
             0.6666666666666666,
             "#ed7953"
            ],
            [
             0.7777777777777778,
             "#fb9f3a"
            ],
            [
             0.8888888888888888,
             "#fdca26"
            ],
            [
             1,
             "#f0f921"
            ]
           ]
          },
          "colorway": [
           "#636efa",
           "#EF553B",
           "#00cc96",
           "#ab63fa",
           "#FFA15A",
           "#19d3f3",
           "#FF6692",
           "#B6E880",
           "#FF97FF",
           "#FECB52"
          ],
          "font": {
           "color": "#2a3f5f"
          },
          "geo": {
           "bgcolor": "white",
           "lakecolor": "white",
           "landcolor": "#E5ECF6",
           "showlakes": true,
           "showland": true,
           "subunitcolor": "white"
          },
          "hoverlabel": {
           "align": "left"
          },
          "hovermode": "closest",
          "mapbox": {
           "style": "light"
          },
          "paper_bgcolor": "white",
          "plot_bgcolor": "#E5ECF6",
          "polar": {
           "angularaxis": {
            "gridcolor": "white",
            "linecolor": "white",
            "ticks": ""
           },
           "bgcolor": "#E5ECF6",
           "radialaxis": {
            "gridcolor": "white",
            "linecolor": "white",
            "ticks": ""
           }
          },
          "scene": {
           "xaxis": {
            "backgroundcolor": "#E5ECF6",
            "gridcolor": "white",
            "gridwidth": 2,
            "linecolor": "white",
            "showbackground": true,
            "ticks": "",
            "zerolinecolor": "white"
           },
           "yaxis": {
            "backgroundcolor": "#E5ECF6",
            "gridcolor": "white",
            "gridwidth": 2,
            "linecolor": "white",
            "showbackground": true,
            "ticks": "",
            "zerolinecolor": "white"
           },
           "zaxis": {
            "backgroundcolor": "#E5ECF6",
            "gridcolor": "white",
            "gridwidth": 2,
            "linecolor": "white",
            "showbackground": true,
            "ticks": "",
            "zerolinecolor": "white"
           }
          },
          "shapedefaults": {
           "line": {
            "color": "#2a3f5f"
           }
          },
          "ternary": {
           "aaxis": {
            "gridcolor": "white",
            "linecolor": "white",
            "ticks": ""
           },
           "baxis": {
            "gridcolor": "white",
            "linecolor": "white",
            "ticks": ""
           },
           "bgcolor": "#E5ECF6",
           "caxis": {
            "gridcolor": "white",
            "linecolor": "white",
            "ticks": ""
           }
          },
          "title": {
           "x": 0.05
          },
          "xaxis": {
           "automargin": true,
           "gridcolor": "white",
           "linecolor": "white",
           "ticks": "",
           "title": {
            "standoff": 15
           },
           "zerolinecolor": "white",
           "zerolinewidth": 2
          },
          "yaxis": {
           "automargin": true,
           "gridcolor": "white",
           "linecolor": "white",
           "ticks": "",
           "title": {
            "standoff": 15
           },
           "zerolinecolor": "white",
           "zerolinewidth": 2
          }
         }
        },
        "title": {
         "text": "Wins per Constructor by Driver"
        },
        "width": 1200,
        "xaxis": {
         "anchor": "y",
         "domain": [
          0,
          1
         ],
         "title": {
          "text": "wins"
         }
        },
        "yaxis": {
         "anchor": "x",
         "categoryorder": "total ascending",
         "domain": [
          0,
          1
         ],
         "range": [
          90.5,
          110.5
         ],
         "title": {
          "text": "driver_name"
         }
        }
       }
      }
     },
     "metadata": {},
     "output_type": "display_data"
    }
   ],
   "source": [
    "fig = px.bar(top_wins_per_driver_constructor, x='wins', y='driver_name', text='wins', color='constructor_name', \n",
    "    title='Wins per Constructor by Driver', width=1200, height=800)\n",
    "\n",
    "fig.update_layout(\n",
    "    yaxis={'categoryorder':'total ascending'},\n",
    "    margin=dict(l=10, r=20, t=40, b=10))\n",
    "\n",
    "fig.update_traces(width=0.9)\n",
    "\n",
    "fig.update_yaxes(range=(top_wins_per_driver_constructor.driver_name.nunique()-20.5, top_wins_per_driver_constructor.driver_name.nunique()-0.5))\n",
    "\n",
    "fig.show()"
   ]
  },
  {
   "cell_type": "code",
   "execution_count": null,
   "metadata": {},
   "outputs": [],
   "source": []
  }
 ],
 "metadata": {
  "interpreter": {
   "hash": "1ad7af85c69e8210088075bbe8f5a0992545004673c8a94202837a77c11d5708"
  },
  "kernelspec": {
   "display_name": "Python 3.9.7 ('base')",
   "language": "python",
   "name": "python3"
  },
  "language_info": {
   "codemirror_mode": {
    "name": "ipython",
    "version": 3
   },
   "file_extension": ".py",
   "mimetype": "text/x-python",
   "name": "python",
   "nbconvert_exporter": "python",
   "pygments_lexer": "ipython3",
   "version": "3.9.7"
  },
  "orig_nbformat": 4
 },
 "nbformat": 4,
 "nbformat_minor": 2
}
